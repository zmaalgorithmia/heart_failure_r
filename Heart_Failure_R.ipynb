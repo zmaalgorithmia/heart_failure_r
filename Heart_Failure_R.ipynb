{
  "nbformat": 4,
  "nbformat_minor": 0,
  "metadata": {
    "colab": {
      "provenance": []
    },
    "kernelspec": {
      "name": "ir",
      "display_name": "R"
    },
    "language_info": {
      "name": "R"
    }
  },
  "cells": [
    {
      "cell_type": "code",
      "source": [
        "set.seed(0)"
      ],
      "metadata": {
        "id": "EHjodf43QKQg"
      },
      "execution_count": null,
      "outputs": []
    },
    {
      "cell_type": "code",
      "source": [
        "dataFull = read.csv(\"heart_failure.csv\", header=TRUE)"
      ],
      "metadata": {
        "id": "0zzfiuECQMuD"
      },
      "execution_count": null,
      "outputs": []
    },
    {
      "cell_type": "code",
      "source": [
        "head(dataFull)"
      ],
      "metadata": {
        "colab": {
          "base_uri": "https://localhost:8080/",
          "height": 286
        },
        "id": "JIySJuEyQSGl",
        "outputId": "86a07acc-13c8-43f3-e120-958d7b36ffc8"
      },
      "execution_count": null,
      "outputs": [
        {
          "output_type": "display_data",
          "data": {
            "text/html": [
              "<table class=\"dataframe\">\n",
              "<caption>A data.frame: 6 × 13</caption>\n",
              "<thead>\n",
              "\t<tr><th></th><th scope=col>age</th><th scope=col>anaemia</th><th scope=col>creatinine_phosphokinase</th><th scope=col>diabetes</th><th scope=col>ejection_fraction</th><th scope=col>high_blood_pressure</th><th scope=col>platelets</th><th scope=col>serum_creatinine</th><th scope=col>serum_sodium</th><th scope=col>sex</th><th scope=col>smoking</th><th scope=col>time</th><th scope=col>death_event</th></tr>\n",
              "\t<tr><th></th><th scope=col>&lt;dbl&gt;</th><th scope=col>&lt;int&gt;</th><th scope=col>&lt;int&gt;</th><th scope=col>&lt;int&gt;</th><th scope=col>&lt;int&gt;</th><th scope=col>&lt;int&gt;</th><th scope=col>&lt;dbl&gt;</th><th scope=col>&lt;dbl&gt;</th><th scope=col>&lt;int&gt;</th><th scope=col>&lt;int&gt;</th><th scope=col>&lt;int&gt;</th><th scope=col>&lt;int&gt;</th><th scope=col>&lt;int&gt;</th></tr>\n",
              "</thead>\n",
              "<tbody>\n",
              "\t<tr><th scope=row>1</th><td>75</td><td>0</td><td> 582</td><td>0</td><td>20</td><td>1</td><td>265000</td><td>1.9</td><td>130</td><td>1</td><td>0</td><td>4</td><td>1</td></tr>\n",
              "\t<tr><th scope=row>2</th><td>55</td><td>0</td><td>7861</td><td>0</td><td>38</td><td>0</td><td>263358</td><td>1.1</td><td>136</td><td>1</td><td>0</td><td>6</td><td>1</td></tr>\n",
              "\t<tr><th scope=row>3</th><td>65</td><td>0</td><td> 146</td><td>0</td><td>20</td><td>0</td><td>162000</td><td>1.3</td><td>129</td><td>1</td><td>1</td><td>7</td><td>1</td></tr>\n",
              "\t<tr><th scope=row>4</th><td>50</td><td>1</td><td> 111</td><td>0</td><td>20</td><td>0</td><td>210000</td><td>1.9</td><td>137</td><td>1</td><td>0</td><td>7</td><td>1</td></tr>\n",
              "\t<tr><th scope=row>5</th><td>65</td><td>1</td><td> 160</td><td>1</td><td>20</td><td>0</td><td>327000</td><td>2.7</td><td>116</td><td>0</td><td>0</td><td>8</td><td>1</td></tr>\n",
              "\t<tr><th scope=row>6</th><td>90</td><td>1</td><td>  47</td><td>0</td><td>40</td><td>1</td><td>204000</td><td>2.1</td><td>132</td><td>1</td><td>1</td><td>8</td><td>1</td></tr>\n",
              "</tbody>\n",
              "</table>\n"
            ],
            "text/markdown": "\nA data.frame: 6 × 13\n\n| <!--/--> | age &lt;dbl&gt; | anaemia &lt;int&gt; | creatinine_phosphokinase &lt;int&gt; | diabetes &lt;int&gt; | ejection_fraction &lt;int&gt; | high_blood_pressure &lt;int&gt; | platelets &lt;dbl&gt; | serum_creatinine &lt;dbl&gt; | serum_sodium &lt;int&gt; | sex &lt;int&gt; | smoking &lt;int&gt; | time &lt;int&gt; | death_event &lt;int&gt; |\n|---|---|---|---|---|---|---|---|---|---|---|---|---|---|\n| 1 | 75 | 0 |  582 | 0 | 20 | 1 | 265000 | 1.9 | 130 | 1 | 0 | 4 | 1 |\n| 2 | 55 | 0 | 7861 | 0 | 38 | 0 | 263358 | 1.1 | 136 | 1 | 0 | 6 | 1 |\n| 3 | 65 | 0 |  146 | 0 | 20 | 0 | 162000 | 1.3 | 129 | 1 | 1 | 7 | 1 |\n| 4 | 50 | 1 |  111 | 0 | 20 | 0 | 210000 | 1.9 | 137 | 1 | 0 | 7 | 1 |\n| 5 | 65 | 1 |  160 | 1 | 20 | 0 | 327000 | 2.7 | 116 | 0 | 0 | 8 | 1 |\n| 6 | 90 | 1 |   47 | 0 | 40 | 1 | 204000 | 2.1 | 132 | 1 | 1 | 8 | 1 |\n\n",
            "text/latex": "A data.frame: 6 × 13\n\\begin{tabular}{r|lllllllllllll}\n  & age & anaemia & creatinine\\_phosphokinase & diabetes & ejection\\_fraction & high\\_blood\\_pressure & platelets & serum\\_creatinine & serum\\_sodium & sex & smoking & time & death\\_event\\\\\n  & <dbl> & <int> & <int> & <int> & <int> & <int> & <dbl> & <dbl> & <int> & <int> & <int> & <int> & <int>\\\\\n\\hline\n\t1 & 75 & 0 &  582 & 0 & 20 & 1 & 265000 & 1.9 & 130 & 1 & 0 & 4 & 1\\\\\n\t2 & 55 & 0 & 7861 & 0 & 38 & 0 & 263358 & 1.1 & 136 & 1 & 0 & 6 & 1\\\\\n\t3 & 65 & 0 &  146 & 0 & 20 & 0 & 162000 & 1.3 & 129 & 1 & 1 & 7 & 1\\\\\n\t4 & 50 & 1 &  111 & 0 & 20 & 0 & 210000 & 1.9 & 137 & 1 & 0 & 7 & 1\\\\\n\t5 & 65 & 1 &  160 & 1 & 20 & 0 & 327000 & 2.7 & 116 & 0 & 0 & 8 & 1\\\\\n\t6 & 90 & 1 &   47 & 0 & 40 & 1 & 204000 & 2.1 & 132 & 1 & 1 & 8 & 1\\\\\n\\end{tabular}\n",
            "text/plain": [
              "  age anaemia creatinine_phosphokinase diabetes ejection_fraction\n",
              "1 75  0        582                     0        20               \n",
              "2 55  0       7861                     0        38               \n",
              "3 65  0        146                     0        20               \n",
              "4 50  1        111                     0        20               \n",
              "5 65  1        160                     1        20               \n",
              "6 90  1         47                     0        40               \n",
              "  high_blood_pressure platelets serum_creatinine serum_sodium sex smoking time\n",
              "1 1                   265000    1.9              130          1   0       4   \n",
              "2 0                   263358    1.1              136          1   0       6   \n",
              "3 0                   162000    1.3              129          1   1       7   \n",
              "4 0                   210000    1.9              137          1   0       7   \n",
              "5 0                   327000    2.7              116          0   0       8   \n",
              "6 1                   204000    2.1              132          1   1       8   \n",
              "  death_event\n",
              "1 1          \n",
              "2 1          \n",
              "3 1          \n",
              "4 1          \n",
              "5 1          \n",
              "6 1          "
            ]
          },
          "metadata": {}
        }
      ]
    },
    {
      "cell_type": "code",
      "source": [
        "# Split data for training and testing\n",
        "testRows = sample(nrow(dataFull), 0.2*nrow(dataFull))\n",
        "testRows"
      ],
      "metadata": {
        "colab": {
          "base_uri": "https://localhost:8080/",
          "height": 52
        },
        "id": "iuT_tCpzQUOs",
        "outputId": "0f85f624-2b0c-493d-e344-49050c51229a"
      },
      "execution_count": null,
      "outputs": [
        {
          "output_type": "display_data",
          "data": {
            "text/html": [
              "<style>\n",
              ".list-inline {list-style: none; margin:0; padding: 0}\n",
              ".list-inline>li {display: inline-block}\n",
              ".list-inline>li:not(:last-child)::after {content: \"\\00b7\"; padding: 0 .5ex}\n",
              "</style>\n",
              "<ol class=list-inline><li>167</li><li>129</li><li>270</li><li>187</li><li>85</li><li>277</li><li>263</li><li>79</li><li>213</li><li>37</li><li>105</li><li>217</li><li>165</li><li>89</li><li>42</li><li>111</li><li>20</li><li>44</li><li>70</li><li>121</li><li>40</li><li>172</li><li>25</li><li>248</li><li>198</li><li>39</li><li>160</li><li>14</li><li>130</li><li>45</li><li>22</li><li>206</li><li>230</li><li>193</li><li>104</li><li>255</li><li>265</li><li>103</li><li>13</li><li>288</li><li>176</li><li>110</li><li>84</li><li>262</li><li>29</li><li>141</li><li>252</li><li>150</li><li>221</li><li>156</li><li>108</li><li>48</li><li>33</li><li>297</li><li>149</li><li>31</li><li>102</li><li>145</li><li>73</li></ol>\n"
            ],
            "text/markdown": "1. 167\n2. 129\n3. 270\n4. 187\n5. 85\n6. 277\n7. 263\n8. 79\n9. 213\n10. 37\n11. 105\n12. 217\n13. 165\n14. 89\n15. 42\n16. 111\n17. 20\n18. 44\n19. 70\n20. 121\n21. 40\n22. 172\n23. 25\n24. 248\n25. 198\n26. 39\n27. 160\n28. 14\n29. 130\n30. 45\n31. 22\n32. 206\n33. 230\n34. 193\n35. 104\n36. 255\n37. 265\n38. 103\n39. 13\n40. 288\n41. 176\n42. 110\n43. 84\n44. 262\n45. 29\n46. 141\n47. 252\n48. 150\n49. 221\n50. 156\n51. 108\n52. 48\n53. 33\n54. 297\n55. 149\n56. 31\n57. 102\n58. 145\n59. 73\n\n\n",
            "text/latex": "\\begin{enumerate*}\n\\item 167\n\\item 129\n\\item 270\n\\item 187\n\\item 85\n\\item 277\n\\item 263\n\\item 79\n\\item 213\n\\item 37\n\\item 105\n\\item 217\n\\item 165\n\\item 89\n\\item 42\n\\item 111\n\\item 20\n\\item 44\n\\item 70\n\\item 121\n\\item 40\n\\item 172\n\\item 25\n\\item 248\n\\item 198\n\\item 39\n\\item 160\n\\item 14\n\\item 130\n\\item 45\n\\item 22\n\\item 206\n\\item 230\n\\item 193\n\\item 104\n\\item 255\n\\item 265\n\\item 103\n\\item 13\n\\item 288\n\\item 176\n\\item 110\n\\item 84\n\\item 262\n\\item 29\n\\item 141\n\\item 252\n\\item 150\n\\item 221\n\\item 156\n\\item 108\n\\item 48\n\\item 33\n\\item 297\n\\item 149\n\\item 31\n\\item 102\n\\item 145\n\\item 73\n\\end{enumerate*}\n",
            "text/plain": [
              " [1] 167 129 270 187  85 277 263  79 213  37 105 217 165  89  42 111  20  44  70\n",
              "[20] 121  40 172  25 248 198  39 160  14 130  45  22 206 230 193 104 255 265 103\n",
              "[39]  13 288 176 110  84 262  29 141 252 150 221 156 108  48  33 297 149  31 102\n",
              "[58] 145  73"
            ]
          },
          "metadata": {}
        }
      ]
    },
    {
      "cell_type": "code",
      "source": [
        "dataTest = dataFull[testRows, ]\n",
        "head(dataTest)"
      ],
      "metadata": {
        "colab": {
          "base_uri": "https://localhost:8080/",
          "height": 286
        },
        "id": "JGHWLBzQQq5j",
        "outputId": "90cce071-015a-486e-b9ae-bb10888aecf1"
      },
      "execution_count": null,
      "outputs": [
        {
          "output_type": "display_data",
          "data": {
            "text/html": [
              "<table class=\"dataframe\">\n",
              "<caption>A data.frame: 6 × 13</caption>\n",
              "<thead>\n",
              "\t<tr><th></th><th scope=col>age</th><th scope=col>anaemia</th><th scope=col>creatinine_phosphokinase</th><th scope=col>diabetes</th><th scope=col>ejection_fraction</th><th scope=col>high_blood_pressure</th><th scope=col>platelets</th><th scope=col>serum_creatinine</th><th scope=col>serum_sodium</th><th scope=col>sex</th><th scope=col>smoking</th><th scope=col>time</th><th scope=col>death_event</th></tr>\n",
              "\t<tr><th></th><th scope=col>&lt;dbl&gt;</th><th scope=col>&lt;int&gt;</th><th scope=col>&lt;int&gt;</th><th scope=col>&lt;int&gt;</th><th scope=col>&lt;int&gt;</th><th scope=col>&lt;int&gt;</th><th scope=col>&lt;dbl&gt;</th><th scope=col>&lt;dbl&gt;</th><th scope=col>&lt;int&gt;</th><th scope=col>&lt;int&gt;</th><th scope=col>&lt;int&gt;</th><th scope=col>&lt;int&gt;</th><th scope=col>&lt;int&gt;</th></tr>\n",
              "</thead>\n",
              "<tbody>\n",
              "\t<tr><th scope=row>167</th><td>53</td><td>0</td><td>196</td><td>0</td><td>60</td><td>0</td><td>220000</td><td>0.7</td><td>133</td><td>1</td><td>1</td><td>134</td><td>0</td></tr>\n",
              "\t<tr><th scope=row>129</th><td>61</td><td>0</td><td>248</td><td>0</td><td>30</td><td>1</td><td>267000</td><td>0.7</td><td>136</td><td>1</td><td>1</td><td>104</td><td>0</td></tr>\n",
              "\t<tr><th scope=row>270</th><td>40</td><td>0</td><td>582</td><td>1</td><td>35</td><td>0</td><td>222000</td><td>1.0</td><td>132</td><td>1</td><td>0</td><td>244</td><td>0</td></tr>\n",
              "\t<tr><th scope=row>187</th><td>50</td><td>0</td><td>582</td><td>0</td><td>50</td><td>0</td><td>153000</td><td>0.6</td><td>134</td><td>0</td><td>0</td><td>172</td><td>1</td></tr>\n",
              "\t<tr><th scope=row>85</th><td>59</td><td>1</td><td>280</td><td>1</td><td>25</td><td>1</td><td>302000</td><td>1.0</td><td>141</td><td>0</td><td>0</td><td> 78</td><td>1</td></tr>\n",
              "\t<tr><th scope=row>277</th><td>70</td><td>0</td><td>618</td><td>0</td><td>35</td><td>0</td><td>327000</td><td>1.1</td><td>142</td><td>0</td><td>0</td><td>245</td><td>0</td></tr>\n",
              "</tbody>\n",
              "</table>\n"
            ],
            "text/markdown": "\nA data.frame: 6 × 13\n\n| <!--/--> | age &lt;dbl&gt; | anaemia &lt;int&gt; | creatinine_phosphokinase &lt;int&gt; | diabetes &lt;int&gt; | ejection_fraction &lt;int&gt; | high_blood_pressure &lt;int&gt; | platelets &lt;dbl&gt; | serum_creatinine &lt;dbl&gt; | serum_sodium &lt;int&gt; | sex &lt;int&gt; | smoking &lt;int&gt; | time &lt;int&gt; | death_event &lt;int&gt; |\n|---|---|---|---|---|---|---|---|---|---|---|---|---|---|\n| 167 | 53 | 0 | 196 | 0 | 60 | 0 | 220000 | 0.7 | 133 | 1 | 1 | 134 | 0 |\n| 129 | 61 | 0 | 248 | 0 | 30 | 1 | 267000 | 0.7 | 136 | 1 | 1 | 104 | 0 |\n| 270 | 40 | 0 | 582 | 1 | 35 | 0 | 222000 | 1.0 | 132 | 1 | 0 | 244 | 0 |\n| 187 | 50 | 0 | 582 | 0 | 50 | 0 | 153000 | 0.6 | 134 | 0 | 0 | 172 | 1 |\n| 85 | 59 | 1 | 280 | 1 | 25 | 1 | 302000 | 1.0 | 141 | 0 | 0 |  78 | 1 |\n| 277 | 70 | 0 | 618 | 0 | 35 | 0 | 327000 | 1.1 | 142 | 0 | 0 | 245 | 0 |\n\n",
            "text/latex": "A data.frame: 6 × 13\n\\begin{tabular}{r|lllllllllllll}\n  & age & anaemia & creatinine\\_phosphokinase & diabetes & ejection\\_fraction & high\\_blood\\_pressure & platelets & serum\\_creatinine & serum\\_sodium & sex & smoking & time & death\\_event\\\\\n  & <dbl> & <int> & <int> & <int> & <int> & <int> & <dbl> & <dbl> & <int> & <int> & <int> & <int> & <int>\\\\\n\\hline\n\t167 & 53 & 0 & 196 & 0 & 60 & 0 & 220000 & 0.7 & 133 & 1 & 1 & 134 & 0\\\\\n\t129 & 61 & 0 & 248 & 0 & 30 & 1 & 267000 & 0.7 & 136 & 1 & 1 & 104 & 0\\\\\n\t270 & 40 & 0 & 582 & 1 & 35 & 0 & 222000 & 1.0 & 132 & 1 & 0 & 244 & 0\\\\\n\t187 & 50 & 0 & 582 & 0 & 50 & 0 & 153000 & 0.6 & 134 & 0 & 0 & 172 & 1\\\\\n\t85 & 59 & 1 & 280 & 1 & 25 & 1 & 302000 & 1.0 & 141 & 0 & 0 &  78 & 1\\\\\n\t277 & 70 & 0 & 618 & 0 & 35 & 0 & 327000 & 1.1 & 142 & 0 & 0 & 245 & 0\\\\\n\\end{tabular}\n",
            "text/plain": [
              "    age anaemia creatinine_phosphokinase diabetes ejection_fraction\n",
              "167 53  0       196                      0        60               \n",
              "129 61  0       248                      0        30               \n",
              "270 40  0       582                      1        35               \n",
              "187 50  0       582                      0        50               \n",
              "85  59  1       280                      1        25               \n",
              "277 70  0       618                      0        35               \n",
              "    high_blood_pressure platelets serum_creatinine serum_sodium sex smoking\n",
              "167 0                   220000    0.7              133          1   1      \n",
              "129 1                   267000    0.7              136          1   1      \n",
              "270 0                   222000    1.0              132          1   0      \n",
              "187 0                   153000    0.6              134          0   0      \n",
              "85  1                   302000    1.0              141          0   0      \n",
              "277 0                   327000    1.1              142          0   0      \n",
              "    time death_event\n",
              "167 134  0          \n",
              "129 104  0          \n",
              "270 244  0          \n",
              "187 172  1          \n",
              "85   78  1          \n",
              "277 245  0          "
            ]
          },
          "metadata": {}
        }
      ]
    },
    {
      "cell_type": "code",
      "source": [
        "dataTrain = dataFull[-testRows, ]\n",
        "head(dataTrain)"
      ],
      "metadata": {
        "colab": {
          "base_uri": "https://localhost:8080/",
          "height": 286
        },
        "id": "B988iCcEQ2eK",
        "outputId": "54bae1e6-37af-4960-88ba-0719b5aa10e1"
      },
      "execution_count": null,
      "outputs": [
        {
          "output_type": "display_data",
          "data": {
            "text/html": [
              "<table class=\"dataframe\">\n",
              "<caption>A data.frame: 6 × 13</caption>\n",
              "<thead>\n",
              "\t<tr><th></th><th scope=col>age</th><th scope=col>anaemia</th><th scope=col>creatinine_phosphokinase</th><th scope=col>diabetes</th><th scope=col>ejection_fraction</th><th scope=col>high_blood_pressure</th><th scope=col>platelets</th><th scope=col>serum_creatinine</th><th scope=col>serum_sodium</th><th scope=col>sex</th><th scope=col>smoking</th><th scope=col>time</th><th scope=col>death_event</th></tr>\n",
              "\t<tr><th></th><th scope=col>&lt;dbl&gt;</th><th scope=col>&lt;int&gt;</th><th scope=col>&lt;int&gt;</th><th scope=col>&lt;int&gt;</th><th scope=col>&lt;int&gt;</th><th scope=col>&lt;int&gt;</th><th scope=col>&lt;dbl&gt;</th><th scope=col>&lt;dbl&gt;</th><th scope=col>&lt;int&gt;</th><th scope=col>&lt;int&gt;</th><th scope=col>&lt;int&gt;</th><th scope=col>&lt;int&gt;</th><th scope=col>&lt;int&gt;</th></tr>\n",
              "</thead>\n",
              "<tbody>\n",
              "\t<tr><th scope=row>1</th><td>75</td><td>0</td><td> 582</td><td>0</td><td>20</td><td>1</td><td>265000</td><td>1.9</td><td>130</td><td>1</td><td>0</td><td>4</td><td>1</td></tr>\n",
              "\t<tr><th scope=row>2</th><td>55</td><td>0</td><td>7861</td><td>0</td><td>38</td><td>0</td><td>263358</td><td>1.1</td><td>136</td><td>1</td><td>0</td><td>6</td><td>1</td></tr>\n",
              "\t<tr><th scope=row>3</th><td>65</td><td>0</td><td> 146</td><td>0</td><td>20</td><td>0</td><td>162000</td><td>1.3</td><td>129</td><td>1</td><td>1</td><td>7</td><td>1</td></tr>\n",
              "\t<tr><th scope=row>4</th><td>50</td><td>1</td><td> 111</td><td>0</td><td>20</td><td>0</td><td>210000</td><td>1.9</td><td>137</td><td>1</td><td>0</td><td>7</td><td>1</td></tr>\n",
              "\t<tr><th scope=row>5</th><td>65</td><td>1</td><td> 160</td><td>1</td><td>20</td><td>0</td><td>327000</td><td>2.7</td><td>116</td><td>0</td><td>0</td><td>8</td><td>1</td></tr>\n",
              "\t<tr><th scope=row>6</th><td>90</td><td>1</td><td>  47</td><td>0</td><td>40</td><td>1</td><td>204000</td><td>2.1</td><td>132</td><td>1</td><td>1</td><td>8</td><td>1</td></tr>\n",
              "</tbody>\n",
              "</table>\n"
            ],
            "text/markdown": "\nA data.frame: 6 × 13\n\n| <!--/--> | age &lt;dbl&gt; | anaemia &lt;int&gt; | creatinine_phosphokinase &lt;int&gt; | diabetes &lt;int&gt; | ejection_fraction &lt;int&gt; | high_blood_pressure &lt;int&gt; | platelets &lt;dbl&gt; | serum_creatinine &lt;dbl&gt; | serum_sodium &lt;int&gt; | sex &lt;int&gt; | smoking &lt;int&gt; | time &lt;int&gt; | death_event &lt;int&gt; |\n|---|---|---|---|---|---|---|---|---|---|---|---|---|---|\n| 1 | 75 | 0 |  582 | 0 | 20 | 1 | 265000 | 1.9 | 130 | 1 | 0 | 4 | 1 |\n| 2 | 55 | 0 | 7861 | 0 | 38 | 0 | 263358 | 1.1 | 136 | 1 | 0 | 6 | 1 |\n| 3 | 65 | 0 |  146 | 0 | 20 | 0 | 162000 | 1.3 | 129 | 1 | 1 | 7 | 1 |\n| 4 | 50 | 1 |  111 | 0 | 20 | 0 | 210000 | 1.9 | 137 | 1 | 0 | 7 | 1 |\n| 5 | 65 | 1 |  160 | 1 | 20 | 0 | 327000 | 2.7 | 116 | 0 | 0 | 8 | 1 |\n| 6 | 90 | 1 |   47 | 0 | 40 | 1 | 204000 | 2.1 | 132 | 1 | 1 | 8 | 1 |\n\n",
            "text/latex": "A data.frame: 6 × 13\n\\begin{tabular}{r|lllllllllllll}\n  & age & anaemia & creatinine\\_phosphokinase & diabetes & ejection\\_fraction & high\\_blood\\_pressure & platelets & serum\\_creatinine & serum\\_sodium & sex & smoking & time & death\\_event\\\\\n  & <dbl> & <int> & <int> & <int> & <int> & <int> & <dbl> & <dbl> & <int> & <int> & <int> & <int> & <int>\\\\\n\\hline\n\t1 & 75 & 0 &  582 & 0 & 20 & 1 & 265000 & 1.9 & 130 & 1 & 0 & 4 & 1\\\\\n\t2 & 55 & 0 & 7861 & 0 & 38 & 0 & 263358 & 1.1 & 136 & 1 & 0 & 6 & 1\\\\\n\t3 & 65 & 0 &  146 & 0 & 20 & 0 & 162000 & 1.3 & 129 & 1 & 1 & 7 & 1\\\\\n\t4 & 50 & 1 &  111 & 0 & 20 & 0 & 210000 & 1.9 & 137 & 1 & 0 & 7 & 1\\\\\n\t5 & 65 & 1 &  160 & 1 & 20 & 0 & 327000 & 2.7 & 116 & 0 & 0 & 8 & 1\\\\\n\t6 & 90 & 1 &   47 & 0 & 40 & 1 & 204000 & 2.1 & 132 & 1 & 1 & 8 & 1\\\\\n\\end{tabular}\n",
            "text/plain": [
              "  age anaemia creatinine_phosphokinase diabetes ejection_fraction\n",
              "1 75  0        582                     0        20               \n",
              "2 55  0       7861                     0        38               \n",
              "3 65  0        146                     0        20               \n",
              "4 50  1        111                     0        20               \n",
              "5 65  1        160                     1        20               \n",
              "6 90  1         47                     0        40               \n",
              "  high_blood_pressure platelets serum_creatinine serum_sodium sex smoking time\n",
              "1 1                   265000    1.9              130          1   0       4   \n",
              "2 0                   263358    1.1              136          1   0       6   \n",
              "3 0                   162000    1.3              129          1   1       7   \n",
              "4 0                   210000    1.9              137          1   0       7   \n",
              "5 0                   327000    2.7              116          0   0       8   \n",
              "6 1                   204000    2.1              132          1   1       8   \n",
              "  death_event\n",
              "1 1          \n",
              "2 1          \n",
              "3 1          \n",
              "4 1          \n",
              "5 1          \n",
              "6 1          "
            ]
          },
          "metadata": {}
        }
      ]
    },
    {
      "cell_type": "code",
      "source": [
        "model2 <- glm(death_event ~ age+ejection_fraction+serum_creatinine+time, family=binomial, data=dataTrain)"
      ],
      "metadata": {
        "id": "KkQ7gm22Q3bl"
      },
      "execution_count": null,
      "outputs": []
    },
    {
      "cell_type": "code",
      "source": [
        "summary(model2)"
      ],
      "metadata": {
        "colab": {
          "base_uri": "https://localhost:8080/",
          "height": 468
        },
        "id": "LPcGFn7WQ_OA",
        "outputId": "70660ae8-8a69-43a6-f7fb-63db0b6b55ce"
      },
      "execution_count": null,
      "outputs": [
        {
          "output_type": "display_data",
          "data": {
            "text/plain": [
              "\n",
              "Call:\n",
              "glm(formula = death_event ~ age + ejection_fraction + serum_creatinine + \n",
              "    time, family = binomial, data = dataTrain)\n",
              "\n",
              "Deviance Residuals: \n",
              "    Min       1Q   Median       3Q      Max  \n",
              "-2.2150  -0.5301  -0.2213   0.3404   2.3149  \n",
              "\n",
              "Coefficients:\n",
              "                   Estimate Std. Error z value Pr(>|z|)    \n",
              "(Intercept)        0.558699   1.238732   0.451   0.6520    \n",
              "age                0.047097   0.018601   2.532   0.0113 *  \n",
              "ejection_fraction -0.085596   0.018781  -4.558 5.17e-06 ***\n",
              "serum_creatinine   0.835901   0.196491   4.254 2.10e-05 ***\n",
              "time              -0.021201   0.003405  -6.227 4.76e-10 ***\n",
              "---\n",
              "Signif. codes:  0 ‘***’ 0.001 ‘**’ 0.01 ‘*’ 0.05 ‘.’ 0.1 ‘ ’ 1\n",
              "\n",
              "(Dispersion parameter for binomial family taken to be 1)\n",
              "\n",
              "    Null deviance: 293.21  on 239  degrees of freedom\n",
              "Residual deviance: 164.90  on 235  degrees of freedom\n",
              "AIC: 174.9\n",
              "\n",
              "Number of Fisher Scoring iterations: 6\n"
            ]
          },
          "metadata": {}
        }
      ]
    },
    {
      "cell_type": "code",
      "source": [
        " # Save model\n",
        "  cat('Saving model...\\n')\n",
        "  model_path <- file.path(\"./\", 'model.rds')\n",
        "  saveRDS(model2, file = model_path)"
      ],
      "metadata": {
        "colab": {
          "base_uri": "https://localhost:8080/"
        },
        "id": "TNoiOEjDSJBr",
        "outputId": "4723e46b-1e43-4c93-a4af-98c497220a26"
      },
      "execution_count": null,
      "outputs": [
        {
          "output_type": "stream",
          "name": "stdout",
          "text": [
            "Saving model...\n"
          ]
        }
      ]
    },
    {
      "cell_type": "code",
      "source": [
        "model = readRDS(\"model.rds\")"
      ],
      "metadata": {
        "id": "UGl0JnQATH2q"
      },
      "execution_count": null,
      "outputs": []
    },
    {
      "cell_type": "code",
      "source": [
        "pred.model2 <- predict(model, newdata = dataTest, type = \"response\")"
      ],
      "metadata": {
        "id": "s1q31cIiT5lp"
      },
      "execution_count": null,
      "outputs": []
    },
    {
      "cell_type": "code",
      "source": [
        "predictions <- data.frame(pred.model2, 1-pred.model2)"
      ],
      "metadata": {
        "id": "tisdCyhvVfWx"
      },
      "execution_count": null,
      "outputs": []
    },
    {
      "cell_type": "code",
      "source": [
        "colnames(predictions)<-c(\"postive\",\"negative\")"
      ],
      "metadata": {
        "id": "sa6ywsusXtao"
      },
      "execution_count": null,
      "outputs": []
    },
    {
      "cell_type": "code",
      "source": [
        "head(predictions)"
      ],
      "metadata": {
        "colab": {
          "base_uri": "https://localhost:8080/",
          "height": 286
        },
        "id": "q1b_hPMZWivW",
        "outputId": "c5ad98d1-ded7-494a-f50b-92736fa81914"
      },
      "execution_count": null,
      "outputs": [
        {
          "output_type": "display_data",
          "data": {
            "text/html": [
              "<table class=\"dataframe\">\n",
              "<caption>A data.frame: 6 × 2</caption>\n",
              "<thead>\n",
              "\t<tr><th></th><th scope=col>postive</th><th scope=col>negative</th></tr>\n",
              "\t<tr><th></th><th scope=col>&lt;dbl&gt;</th><th scope=col>&lt;dbl&gt;</th></tr>\n",
              "</thead>\n",
              "<tbody>\n",
              "\t<tr><th scope=row>167</th><td>0.012911375</td><td>0.9870886</td></tr>\n",
              "\t<tr><th scope=row>129</th><td>0.319520071</td><td>0.6804799</td></tr>\n",
              "\t<tr><th scope=row>270</th><td>0.007463053</td><td>0.9925369</td></tr>\n",
              "\t<tr><th scope=row>187</th><td>0.010865992</td><td>0.9891340</td></tr>\n",
              "\t<tr><th scope=row>85</th><td>0.593822707</td><td>0.4061773</td></tr>\n",
              "\t<tr><th scope=row>277</th><td>0.031830085</td><td>0.9681699</td></tr>\n",
              "</tbody>\n",
              "</table>\n"
            ],
            "text/markdown": "\nA data.frame: 6 × 2\n\n| <!--/--> | postive &lt;dbl&gt; | negative &lt;dbl&gt; |\n|---|---|---|\n| 167 | 0.012911375 | 0.9870886 |\n| 129 | 0.319520071 | 0.6804799 |\n| 270 | 0.007463053 | 0.9925369 |\n| 187 | 0.010865992 | 0.9891340 |\n| 85 | 0.593822707 | 0.4061773 |\n| 277 | 0.031830085 | 0.9681699 |\n\n",
            "text/latex": "A data.frame: 6 × 2\n\\begin{tabular}{r|ll}\n  & postive & negative\\\\\n  & <dbl> & <dbl>\\\\\n\\hline\n\t167 & 0.012911375 & 0.9870886\\\\\n\t129 & 0.319520071 & 0.6804799\\\\\n\t270 & 0.007463053 & 0.9925369\\\\\n\t187 & 0.010865992 & 0.9891340\\\\\n\t85 & 0.593822707 & 0.4061773\\\\\n\t277 & 0.031830085 & 0.9681699\\\\\n\\end{tabular}\n",
            "text/plain": [
              "    postive     negative \n",
              "167 0.012911375 0.9870886\n",
              "129 0.319520071 0.6804799\n",
              "270 0.007463053 0.9925369\n",
              "187 0.010865992 0.9891340\n",
              "85  0.593822707 0.4061773\n",
              "277 0.031830085 0.9681699"
            ]
          },
          "metadata": {}
        }
      ]
    },
    {
      "cell_type": "code",
      "source": [
        "return(predictions)"
      ],
      "metadata": {
        "id": "jXsRsAunXIq8"
      },
      "execution_count": null,
      "outputs": []
    },
    {
      "cell_type": "code",
      "source": [
        "init <- function(...) {\n",
        "    require(caret)\n",
        "    require(glmnet)\n",
        "}\n",
        "\n",
        "read_input_data <- function(){\n",
        "    dataFull = read.csv(\"heart_failure.csv\", header=TRUE)\n",
        "    return(dataFull)\n",
        "}\n",
        "\n",
        "load <- function(){\n",
        "    model = readRDS(\"model.rds\")\n",
        "    return(model)\n",
        "}\n",
        "\n",
        "transform <- function(data) {\n",
        "    data[is.na(data)] <- 0\n",
        "    # Split data for training and testing\n",
        "    testRows = sample(nrow(data), 0.2*nrow(data))\n",
        "    dataTest = data[testRows, ]\n",
        "    return(dataTest)\n",
        "}\n",
        "\n",
        "score <- function(data, model){\n",
        "    pred.model <- predict(model, newdata = dataTest, type = \"response\")\n",
        "    predictions <- data.frame(pred.model, 1-pred.model)\n",
        "    colnames(predictions)<-c(\"postive\",\"negative\")\n",
        "    return(predictions)\n",
        "}"
      ],
      "metadata": {
        "id": "-SNNUmOcHMJC"
      },
      "execution_count": null,
      "outputs": []
    },
    {
      "cell_type": "code",
      "source": [
        "init()"
      ],
      "metadata": {
        "colab": {
          "base_uri": "https://localhost:8080/"
        },
        "id": "ZyY8ttGhHS8r",
        "outputId": "20f9028d-6a37-4c59-8b54-d57649ab4a81"
      },
      "execution_count": null,
      "outputs": [
        {
          "output_type": "stream",
          "name": "stderr",
          "text": [
            "Loading required package: caret\n",
            "\n",
            "Warning message in library(package, lib.loc = lib.loc, character.only = TRUE, logical.return = TRUE, :\n",
            "“there is no package called ‘caret’”\n",
            "Loading required package: glmnet\n",
            "\n",
            "Warning message in library(package, lib.loc = lib.loc, character.only = TRUE, logical.return = TRUE, :\n",
            "“there is no package called ‘glmnet’”\n"
          ]
        }
      ]
    },
    {
      "cell_type": "code",
      "source": [
        "data = read_input_data()"
      ],
      "metadata": {
        "id": "Cbo919nCHTzX"
      },
      "execution_count": null,
      "outputs": []
    },
    {
      "cell_type": "code",
      "source": [
        "model = load()"
      ],
      "metadata": {
        "id": "TbQaRIjMHWt3"
      },
      "execution_count": null,
      "outputs": []
    },
    {
      "cell_type": "code",
      "source": [
        "transformed_data = transform(data)"
      ],
      "metadata": {
        "id": "Y4HK1gSBHrY7"
      },
      "execution_count": null,
      "outputs": []
    },
    {
      "cell_type": "code",
      "source": [
        "predictions = score(transformed_data, model)"
      ],
      "metadata": {
        "id": "ZPV-iRpsH9tS"
      },
      "execution_count": null,
      "outputs": []
    },
    {
      "cell_type": "code",
      "source": [
        "predictions"
      ],
      "metadata": {
        "colab": {
          "base_uri": "https://localhost:8080/",
          "height": 1000
        },
        "id": "AjOq4z38IHff",
        "outputId": "af577b37-673c-47f1-a71f-517a6729c667"
      },
      "execution_count": null,
      "outputs": [
        {
          "output_type": "display_data",
          "data": {
            "text/html": [
              "<table class=\"dataframe\">\n",
              "<caption>A data.frame: 59 × 2</caption>\n",
              "<thead>\n",
              "\t<tr><th></th><th scope=col>postive</th><th scope=col>negative</th></tr>\n",
              "\t<tr><th></th><th scope=col>&lt;dbl&gt;</th><th scope=col>&lt;dbl&gt;</th></tr>\n",
              "</thead>\n",
              "<tbody>\n",
              "\t<tr><th scope=row>167</th><td>0.0129113747</td><td>0.98708863</td></tr>\n",
              "\t<tr><th scope=row>129</th><td>0.3195200706</td><td>0.68047993</td></tr>\n",
              "\t<tr><th scope=row>270</th><td>0.0074630529</td><td>0.99253695</td></tr>\n",
              "\t<tr><th scope=row>187</th><td>0.0108659917</td><td>0.98913401</td></tr>\n",
              "\t<tr><th scope=row>85</th><td>0.5938227074</td><td>0.40617729</td></tr>\n",
              "\t<tr><th scope=row>277</th><td>0.0318300849</td><td>0.96816992</td></tr>\n",
              "\t<tr><th scope=row>263</th><td>0.0885276804</td><td>0.91147232</td></tr>\n",
              "\t<tr><th scope=row>79</th><td>0.4430084949</td><td>0.55699151</td></tr>\n",
              "\t<tr><th scope=row>213</th><td>0.0498424202</td><td>0.95015758</td></tr>\n",
              "\t<tr><th scope=row>37</th><td>0.6720621677</td><td>0.32793783</td></tr>\n",
              "\t<tr><th scope=row>105</th><td>0.3063698840</td><td>0.69363012</td></tr>\n",
              "\t<tr><th scope=row>217</th><td>0.0213047339</td><td>0.97869527</td></tr>\n",
              "\t<tr><th scope=row>165</th><td>0.1537892815</td><td>0.84621072</td></tr>\n",
              "\t<tr><th scope=row>89</th><td>0.1320931432</td><td>0.86790686</td></tr>\n",
              "\t<tr><th scope=row>42</th><td>0.6615793596</td><td>0.33842064</td></tr>\n",
              "\t<tr><th scope=row>111</th><td>0.1856133405</td><td>0.81438666</td></tr>\n",
              "\t<tr><th scope=row>20</th><td>0.3501875155</td><td>0.64981248</td></tr>\n",
              "\t<tr><th scope=row>44</th><td>0.4516952836</td><td>0.54830472</td></tr>\n",
              "\t<tr><th scope=row>70</th><td>0.8305284636</td><td>0.16947154</td></tr>\n",
              "\t<tr><th scope=row>121</th><td>0.0750607303</td><td>0.92493927</td></tr>\n",
              "\t<tr><th scope=row>40</th><td>0.8811709911</td><td>0.11882901</td></tr>\n",
              "\t<tr><th scope=row>172</th><td>0.0595773468</td><td>0.94042265</td></tr>\n",
              "\t<tr><th scope=row>25</th><td>0.9285874605</td><td>0.07141254</td></tr>\n",
              "\t<tr><th scope=row>248</th><td>0.2501651700</td><td>0.74983483</td></tr>\n",
              "\t<tr><th scope=row>198</th><td>0.0977532618</td><td>0.90224674</td></tr>\n",
              "\t<tr><th scope=row>39</th><td>0.8912141706</td><td>0.10878583</td></tr>\n",
              "\t<tr><th scope=row>160</th><td>0.1033855169</td><td>0.89661448</td></tr>\n",
              "\t<tr><th scope=row>14</th><td>0.5859366912</td><td>0.41406331</td></tr>\n",
              "\t<tr><th scope=row>130</th><td>0.6626209765</td><td>0.33737902</td></tr>\n",
              "\t<tr><th scope=row>45</th><td>0.1777949055</td><td>0.82220509</td></tr>\n",
              "\t<tr><th scope=row>22</th><td>0.8771338418</td><td>0.12286616</td></tr>\n",
              "\t<tr><th scope=row>206</th><td>0.0168425771</td><td>0.98315742</td></tr>\n",
              "\t<tr><th scope=row>230</th><td>0.1714150190</td><td>0.82858498</td></tr>\n",
              "\t<tr><th scope=row>193</th><td>0.0256996248</td><td>0.97430038</td></tr>\n",
              "\t<tr><th scope=row>104</th><td>0.2612184770</td><td>0.73878152</td></tr>\n",
              "\t<tr><th scope=row>255</th><td>0.0030090350</td><td>0.99699097</td></tr>\n",
              "\t<tr><th scope=row>265</th><td>0.0209906541</td><td>0.97900935</td></tr>\n",
              "\t<tr><th scope=row>103</th><td>0.7793042748</td><td>0.22069573</td></tr>\n",
              "\t<tr><th scope=row>13</th><td>0.6892199964</td><td>0.31078000</td></tr>\n",
              "\t<tr><th scope=row>288</th><td>0.0015102974</td><td>0.99848970</td></tr>\n",
              "\t<tr><th scope=row>176</th><td>0.0177998162</td><td>0.98220018</td></tr>\n",
              "\t<tr><th scope=row>110</th><td>0.2503467133</td><td>0.74965329</td></tr>\n",
              "\t<tr><th scope=row>84</th><td>0.4627079536</td><td>0.53729205</td></tr>\n",
              "\t<tr><th scope=row>262</th><td>0.0133907866</td><td>0.98660921</td></tr>\n",
              "\t<tr><th scope=row>29</th><td>0.9870636852</td><td>0.01293631</td></tr>\n",
              "\t<tr><th scope=row>141</th><td>0.4212747047</td><td>0.57872530</td></tr>\n",
              "\t<tr><th scope=row>252</th><td>0.0232890420</td><td>0.97671096</td></tr>\n",
              "\t<tr><th scope=row>150</th><td>0.2146567045</td><td>0.78534330</td></tr>\n",
              "\t<tr><th scope=row>221</th><td>0.4053716074</td><td>0.59462839</td></tr>\n",
              "\t<tr><th scope=row>156</th><td>0.5303619241</td><td>0.46963808</td></tr>\n",
              "\t<tr><th scope=row>108</th><td>0.1929235623</td><td>0.80707644</td></tr>\n",
              "\t<tr><th scope=row>48</th><td>0.4465547356</td><td>0.55344526</td></tr>\n",
              "\t<tr><th scope=row>33</th><td>0.5399104487</td><td>0.46008955</td></tr>\n",
              "\t<tr><th scope=row>297</th><td>0.0004605116</td><td>0.99953949</td></tr>\n",
              "\t<tr><th scope=row>149</th><td>0.6586187873</td><td>0.34138121</td></tr>\n",
              "\t<tr><th scope=row>31</th><td>0.9364617585</td><td>0.06353824</td></tr>\n",
              "\t<tr><th scope=row>102</th><td>0.3500277304</td><td>0.64997227</td></tr>\n",
              "\t<tr><th scope=row>145</th><td>0.7063179276</td><td>0.29368207</td></tr>\n",
              "\t<tr><th scope=row>73</th><td>0.7059012594</td><td>0.29409874</td></tr>\n",
              "</tbody>\n",
              "</table>\n"
            ],
            "text/markdown": "\nA data.frame: 59 × 2\n\n| <!--/--> | postive &lt;dbl&gt; | negative &lt;dbl&gt; |\n|---|---|---|\n| 167 | 0.0129113747 | 0.98708863 |\n| 129 | 0.3195200706 | 0.68047993 |\n| 270 | 0.0074630529 | 0.99253695 |\n| 187 | 0.0108659917 | 0.98913401 |\n| 85 | 0.5938227074 | 0.40617729 |\n| 277 | 0.0318300849 | 0.96816992 |\n| 263 | 0.0885276804 | 0.91147232 |\n| 79 | 0.4430084949 | 0.55699151 |\n| 213 | 0.0498424202 | 0.95015758 |\n| 37 | 0.6720621677 | 0.32793783 |\n| 105 | 0.3063698840 | 0.69363012 |\n| 217 | 0.0213047339 | 0.97869527 |\n| 165 | 0.1537892815 | 0.84621072 |\n| 89 | 0.1320931432 | 0.86790686 |\n| 42 | 0.6615793596 | 0.33842064 |\n| 111 | 0.1856133405 | 0.81438666 |\n| 20 | 0.3501875155 | 0.64981248 |\n| 44 | 0.4516952836 | 0.54830472 |\n| 70 | 0.8305284636 | 0.16947154 |\n| 121 | 0.0750607303 | 0.92493927 |\n| 40 | 0.8811709911 | 0.11882901 |\n| 172 | 0.0595773468 | 0.94042265 |\n| 25 | 0.9285874605 | 0.07141254 |\n| 248 | 0.2501651700 | 0.74983483 |\n| 198 | 0.0977532618 | 0.90224674 |\n| 39 | 0.8912141706 | 0.10878583 |\n| 160 | 0.1033855169 | 0.89661448 |\n| 14 | 0.5859366912 | 0.41406331 |\n| 130 | 0.6626209765 | 0.33737902 |\n| 45 | 0.1777949055 | 0.82220509 |\n| 22 | 0.8771338418 | 0.12286616 |\n| 206 | 0.0168425771 | 0.98315742 |\n| 230 | 0.1714150190 | 0.82858498 |\n| 193 | 0.0256996248 | 0.97430038 |\n| 104 | 0.2612184770 | 0.73878152 |\n| 255 | 0.0030090350 | 0.99699097 |\n| 265 | 0.0209906541 | 0.97900935 |\n| 103 | 0.7793042748 | 0.22069573 |\n| 13 | 0.6892199964 | 0.31078000 |\n| 288 | 0.0015102974 | 0.99848970 |\n| 176 | 0.0177998162 | 0.98220018 |\n| 110 | 0.2503467133 | 0.74965329 |\n| 84 | 0.4627079536 | 0.53729205 |\n| 262 | 0.0133907866 | 0.98660921 |\n| 29 | 0.9870636852 | 0.01293631 |\n| 141 | 0.4212747047 | 0.57872530 |\n| 252 | 0.0232890420 | 0.97671096 |\n| 150 | 0.2146567045 | 0.78534330 |\n| 221 | 0.4053716074 | 0.59462839 |\n| 156 | 0.5303619241 | 0.46963808 |\n| 108 | 0.1929235623 | 0.80707644 |\n| 48 | 0.4465547356 | 0.55344526 |\n| 33 | 0.5399104487 | 0.46008955 |\n| 297 | 0.0004605116 | 0.99953949 |\n| 149 | 0.6586187873 | 0.34138121 |\n| 31 | 0.9364617585 | 0.06353824 |\n| 102 | 0.3500277304 | 0.64997227 |\n| 145 | 0.7063179276 | 0.29368207 |\n| 73 | 0.7059012594 | 0.29409874 |\n\n",
            "text/latex": "A data.frame: 59 × 2\n\\begin{tabular}{r|ll}\n  & postive & negative\\\\\n  & <dbl> & <dbl>\\\\\n\\hline\n\t167 & 0.0129113747 & 0.98708863\\\\\n\t129 & 0.3195200706 & 0.68047993\\\\\n\t270 & 0.0074630529 & 0.99253695\\\\\n\t187 & 0.0108659917 & 0.98913401\\\\\n\t85 & 0.5938227074 & 0.40617729\\\\\n\t277 & 0.0318300849 & 0.96816992\\\\\n\t263 & 0.0885276804 & 0.91147232\\\\\n\t79 & 0.4430084949 & 0.55699151\\\\\n\t213 & 0.0498424202 & 0.95015758\\\\\n\t37 & 0.6720621677 & 0.32793783\\\\\n\t105 & 0.3063698840 & 0.69363012\\\\\n\t217 & 0.0213047339 & 0.97869527\\\\\n\t165 & 0.1537892815 & 0.84621072\\\\\n\t89 & 0.1320931432 & 0.86790686\\\\\n\t42 & 0.6615793596 & 0.33842064\\\\\n\t111 & 0.1856133405 & 0.81438666\\\\\n\t20 & 0.3501875155 & 0.64981248\\\\\n\t44 & 0.4516952836 & 0.54830472\\\\\n\t70 & 0.8305284636 & 0.16947154\\\\\n\t121 & 0.0750607303 & 0.92493927\\\\\n\t40 & 0.8811709911 & 0.11882901\\\\\n\t172 & 0.0595773468 & 0.94042265\\\\\n\t25 & 0.9285874605 & 0.07141254\\\\\n\t248 & 0.2501651700 & 0.74983483\\\\\n\t198 & 0.0977532618 & 0.90224674\\\\\n\t39 & 0.8912141706 & 0.10878583\\\\\n\t160 & 0.1033855169 & 0.89661448\\\\\n\t14 & 0.5859366912 & 0.41406331\\\\\n\t130 & 0.6626209765 & 0.33737902\\\\\n\t45 & 0.1777949055 & 0.82220509\\\\\n\t22 & 0.8771338418 & 0.12286616\\\\\n\t206 & 0.0168425771 & 0.98315742\\\\\n\t230 & 0.1714150190 & 0.82858498\\\\\n\t193 & 0.0256996248 & 0.97430038\\\\\n\t104 & 0.2612184770 & 0.73878152\\\\\n\t255 & 0.0030090350 & 0.99699097\\\\\n\t265 & 0.0209906541 & 0.97900935\\\\\n\t103 & 0.7793042748 & 0.22069573\\\\\n\t13 & 0.6892199964 & 0.31078000\\\\\n\t288 & 0.0015102974 & 0.99848970\\\\\n\t176 & 0.0177998162 & 0.98220018\\\\\n\t110 & 0.2503467133 & 0.74965329\\\\\n\t84 & 0.4627079536 & 0.53729205\\\\\n\t262 & 0.0133907866 & 0.98660921\\\\\n\t29 & 0.9870636852 & 0.01293631\\\\\n\t141 & 0.4212747047 & 0.57872530\\\\\n\t252 & 0.0232890420 & 0.97671096\\\\\n\t150 & 0.2146567045 & 0.78534330\\\\\n\t221 & 0.4053716074 & 0.59462839\\\\\n\t156 & 0.5303619241 & 0.46963808\\\\\n\t108 & 0.1929235623 & 0.80707644\\\\\n\t48 & 0.4465547356 & 0.55344526\\\\\n\t33 & 0.5399104487 & 0.46008955\\\\\n\t297 & 0.0004605116 & 0.99953949\\\\\n\t149 & 0.6586187873 & 0.34138121\\\\\n\t31 & 0.9364617585 & 0.06353824\\\\\n\t102 & 0.3500277304 & 0.64997227\\\\\n\t145 & 0.7063179276 & 0.29368207\\\\\n\t73 & 0.7059012594 & 0.29409874\\\\\n\\end{tabular}\n",
            "text/plain": [
              "    postive      negative  \n",
              "167 0.0129113747 0.98708863\n",
              "129 0.3195200706 0.68047993\n",
              "270 0.0074630529 0.99253695\n",
              "187 0.0108659917 0.98913401\n",
              "85  0.5938227074 0.40617729\n",
              "277 0.0318300849 0.96816992\n",
              "263 0.0885276804 0.91147232\n",
              "79  0.4430084949 0.55699151\n",
              "213 0.0498424202 0.95015758\n",
              "37  0.6720621677 0.32793783\n",
              "105 0.3063698840 0.69363012\n",
              "217 0.0213047339 0.97869527\n",
              "165 0.1537892815 0.84621072\n",
              "89  0.1320931432 0.86790686\n",
              "42  0.6615793596 0.33842064\n",
              "111 0.1856133405 0.81438666\n",
              "20  0.3501875155 0.64981248\n",
              "44  0.4516952836 0.54830472\n",
              "70  0.8305284636 0.16947154\n",
              "121 0.0750607303 0.92493927\n",
              "40  0.8811709911 0.11882901\n",
              "172 0.0595773468 0.94042265\n",
              "25  0.9285874605 0.07141254\n",
              "248 0.2501651700 0.74983483\n",
              "198 0.0977532618 0.90224674\n",
              "39  0.8912141706 0.10878583\n",
              "160 0.1033855169 0.89661448\n",
              "14  0.5859366912 0.41406331\n",
              "130 0.6626209765 0.33737902\n",
              "45  0.1777949055 0.82220509\n",
              "22  0.8771338418 0.12286616\n",
              "206 0.0168425771 0.98315742\n",
              "230 0.1714150190 0.82858498\n",
              "193 0.0256996248 0.97430038\n",
              "104 0.2612184770 0.73878152\n",
              "255 0.0030090350 0.99699097\n",
              "265 0.0209906541 0.97900935\n",
              "103 0.7793042748 0.22069573\n",
              "13  0.6892199964 0.31078000\n",
              "288 0.0015102974 0.99848970\n",
              "176 0.0177998162 0.98220018\n",
              "110 0.2503467133 0.74965329\n",
              "84  0.4627079536 0.53729205\n",
              "262 0.0133907866 0.98660921\n",
              "29  0.9870636852 0.01293631\n",
              "141 0.4212747047 0.57872530\n",
              "252 0.0232890420 0.97671096\n",
              "150 0.2146567045 0.78534330\n",
              "221 0.4053716074 0.59462839\n",
              "156 0.5303619241 0.46963808\n",
              "108 0.1929235623 0.80707644\n",
              "48  0.4465547356 0.55344526\n",
              "33  0.5399104487 0.46008955\n",
              "297 0.0004605116 0.99953949\n",
              "149 0.6586187873 0.34138121\n",
              "31  0.9364617585 0.06353824\n",
              "102 0.3500277304 0.64997227\n",
              "145 0.7063179276 0.29368207\n",
              "73  0.7059012594 0.29409874"
            ]
          },
          "metadata": {}
        }
      ]
    },
    {
      "cell_type": "code",
      "source": [],
      "metadata": {
        "id": "D8mMX966IInB"
      },
      "execution_count": null,
      "outputs": []
    }
  ]
}